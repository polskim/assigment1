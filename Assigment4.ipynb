{
    "cells": [
        {
            "metadata": {
                "collapsed": true
            },
            "cell_type": "markdown",
            "source": "<h1>Introduction</h1>\nThe project will display district location in City Pozna\u0144.\nData will be use to present \n\n<h1>Data</h1>\nData load from wikipedia https://en.wikipedia.org/wiki/Administrative_division_of_Pozna%C5%84\nGeo data gather from the python function"
        },
        {
            "metadata": {},
            "cell_type": "code",
            "source": "import requests\nimport pandas as pd\nfrom bs4 import BeautifulSoup\nimport geocoder\nwiki_link = 'https://en.wikipedia.org/wiki/Administrative_division_of_Pozna%C5%84'\nheaders = {'User-Agent': 'Mozilla/5.0 (Windows NT 10.0; Win64; x64) AppleWebKit/537.36 (KHTML, like Gecko) Chrome/88.0.4324.182 Safari/537.36'}\nwiki_page = requests.get(wiki_link, headers = headers)\nwiki_page\nsoup = BeautifulSoup(wiki_page.content, 'html.parser')\ntable = soup.find('table', {'class':'wikitable sortable'}).tbody\nrows = table.find_all('tr')\ncolumns = [\"District\", \"Population\", \"Area km2\", \"Population density km2\"]\ncolumns\ndf_1 = pd.DataFrame(columns = columns)\nfor i in range(1, len(rows)):\n    tds = rows[i].find_all('td')\n    if len(tds) == 7:\n        values = [tds[0].text, tds[1].text, tds[2].text.replace('\\n', ''.replace('\\xa0','')), tds[3].text, tds[4].text.replace('\\n', ''.replace('\\xa0','')), tds[5].text.replace('\\n', ''.replace('\\xa0','')), tds[6].text.replace('\\n', ''.replace('\\xa0',''))]\n    else:\n        values = [td.text.replace('\\n', '').replace('\\xa0','') for td in tds]\n        df_1 = df_1.append(pd.Series(values, index = columns), ignore_index = True)\n        df_1\ndef get_latlng(arcgis_geocoder):\n    \n    lat_lng_coords = None\n    \n    while(lat_lng_coords is None):\n        g = geocoder.arcgis('{}, Poznan, Poland'.format(arcgis_geocoder))\n        lat_lng_coords = g.latlng\n    return lat_lng_coords\ndistricts = df_1['District']    \ncoordinates = [get_latlng(districts) for districts in districts.tolist()]\ndf_1_loc = df_1\n\ndf_1_coordinates = pd.DataFrame(coordinates, columns = ['Latitude', 'Longitude'])\ndf_1_loc['Latitude'] = df_1_coordinates['Latitude']\ndf_1_loc['Longitude'] = df_1_coordinates['Longitude']\ndf_1_loc.head(50)",
            "execution_count": null,
            "outputs": []
        }
    ],
    "metadata": {
        "kernelspec": {
            "name": "python3",
            "display_name": "Python 3.7",
            "language": "python"
        },
        "language_info": {
            "name": "python",
            "version": "3.7.10",
            "mimetype": "text/x-python",
            "codemirror_mode": {
                "name": "ipython",
                "version": 3
            },
            "pygments_lexer": "ipython3",
            "nbconvert_exporter": "python",
            "file_extension": ".py"
        }
    },
    "nbformat": 4,
    "nbformat_minor": 1
}